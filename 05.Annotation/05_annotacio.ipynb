{
 "cells": [
  {
   "cell_type": "markdown",
   "metadata": {},
   "source": [
    "# 5. óra\n",
    "## Annotáció\n",
    "\n",
    "#### NER\n",
    "\n",
    "- tulajdonnevek felismerése\n",
    "- egy- vagy többelemű tulajdonnevek is, ezeket így jelöljük:\n",
    "\n",
    "|  jelölés | jelentés |\n",
    "|::--------::|::--------::|\n",
    "|  O  | nem tulajdonnév |\n",
    "|  B- |egy többelemű tulajdonnév első eleme |\n",
    "|  I- | egy többelemű tulajdonnév közbülső eleme |\n",
    "|  E- | egy többelemű tulajdonnév utolsó eleme |\n",
    "|  1- | egyelemű tulajdonnév |\n",
    "| PER | személynév |\n",
    "| LOC | földrajzi név |\n",
    "| ORG | intézménynév|\n",
    "| MISC | egyéb |\n",
    "\n",
    "\n",
    "\n",
    "- lehetséges címkék: `B-LOC`, `1-PER`, `E-ORG`"
   ]
  },
  {
   "cell_type": "markdown",
   "metadata": {},
   "source": [
    "#### Egy mondat NER-je\n",
    "\n",
    "Iránban<br>\n",
    "ideiglenesen <br>\n",
    "szabadon <br>\n",
    "engednek <br>\n",
    "mintegy <br>\n",
    "70 <br>\n",
    "ezer <br>\n",
    "rabot <br>\n",
    "az <br>\n",
    "új <br>\n",
    "koronavírus<br> \n",
    "miatt<br>\n",
    ".<br>"
   ]
  },
  {
   "cell_type": "markdown",
   "metadata": {},
   "source": [
    "## Feladatok\n",
    "\n",
    "1. Keressétek meg a tulajdonneveket [ebben a szövegben](https://github.com/esztersimon/nlp_at_bme/blob/master/05.Annotation/korona_out_withoutner.tsv), és jelöljétek meg a megfelelő címkével őket.\n",
    "2. Álljatok párba, és számoljátok ki az annotátorok közötti egyetértés mértékét, beszéljétek meg az eltéréseket, problémás pontokat. Állapodjatok meg egy gold standardben.\n",
    "3. Majd vessétek ezt össze az [emtsv kimenetével](https://github.com/esztersimon/nlp_at_bme/blob/master/05.Annotation/korona_out.tsv), és számoljátok ki a pontosságot, fedést, F-mértéket."
   ]
  }
 ],
 "metadata": {
  "kernelspec": {
   "display_name": "Python 3",
   "language": "python",
   "name": "python3"
  },
  "language_info": {
   "codemirror_mode": {
    "name": "ipython",
    "version": 3
   },
   "file_extension": ".py",
   "mimetype": "text/x-python",
   "name": "python",
   "nbconvert_exporter": "python",
   "pygments_lexer": "ipython3",
   "version": "3.6.10"
  }
 },
 "nbformat": 4,
 "nbformat_minor": 2
}
